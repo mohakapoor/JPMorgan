{
  "nbformat": 4,
  "nbformat_minor": 0,
  "metadata": {
    "colab": {
      "provenance": []
    },
    "kernelspec": {
      "name": "python3",
      "display_name": "Python 3"
    },
    "language_info": {
      "name": "python"
    }
  },
  "cells": [
    {
      "cell_type": "code",
      "source": [
        "import pandas as pd\n",
        "import numpy as np\n",
        "from sklearn.ensemble import RandomForestClassifier\n",
        "from sklearn.preprocessing import OneHotEncoder\n",
        "from sklearn.compose import ColumnTransformer\n",
        "from sklearn.model_selection import train_test_split,cross_val_score\n",
        "from sklearn.metrics import accuracy_score,confusion_matrix,mean_squared_error, mean_absolute_error, r2_score"
      ],
      "metadata": {
        "id": "NFNTS2FItPNl"
      },
      "execution_count": 185,
      "outputs": []
    },
    {
      "cell_type": "code",
      "source": [
        "dataset = pd.read_csv('Task 3 and 4_Loan_Data.csv')"
      ],
      "metadata": {
        "id": "HsO8XQPDoYAi"
      },
      "execution_count": 207,
      "outputs": []
    },
    {
      "cell_type": "code",
      "source": [
        "print(dataset)\n",
        "problematic_rows = dataset[dataset['loan_amt_outstanding'] > dataset['total_debt_outstanding']]\n",
        "print(len(problematic_rows))\n",
        "#I have a bit of confusion here like how can be the loan greater than total debt?? maybe i am understanding it wrong"
      ],
      "metadata": {
        "colab": {
          "base_uri": "https://localhost:8080/"
        },
        "id": "nNaYBtoGot8u",
        "outputId": "c239d686-8352-4e1e-ac47-24e728040bf9"
      },
      "execution_count": 208,
      "outputs": [
        {
          "output_type": "stream",
          "name": "stdout",
          "text": [
            "      customer_id  credit_lines_outstanding  ...  fico_score  default\n",
            "0         8153374                         0  ...         605        0\n",
            "1         7442532                         5  ...         572        1\n",
            "2         2256073                         0  ...         602        0\n",
            "3         4885975                         0  ...         612        0\n",
            "4         4700614                         1  ...         631        0\n",
            "...           ...                       ...  ...         ...      ...\n",
            "9995      3972488                         0  ...         697        0\n",
            "9996      6184073                         1  ...         615        0\n",
            "9997      6694516                         2  ...         596        0\n",
            "9998      3942961                         0  ...         647        0\n",
            "9999      5533570                         1  ...         757        0\n",
            "\n",
            "[10000 rows x 8 columns]\n",
            "1938\n"
          ]
        }
      ]
    },
    {
      "cell_type": "code",
      "source": [
        "dataset['DebtIncomeRatio'] = dataset['total_debt_outstanding']/dataset['income']\n",
        "dataset = dataset.iloc[:, [0,1,2,3,4,5,6,8,7]]\n",
        "print(dataset)"
      ],
      "metadata": {
        "colab": {
          "base_uri": "https://localhost:8080/"
        },
        "id": "C5aROCxAo1H1",
        "outputId": "b09ed3fe-fa48-435d-d1d1-bfa5f919ca2a"
      },
      "execution_count": 209,
      "outputs": [
        {
          "output_type": "stream",
          "name": "stdout",
          "text": [
            "      customer_id  credit_lines_outstanding  ...  DebtIncomeRatio  default\n",
            "0         8153374                         0  ...         0.050173        0\n",
            "1         7442532                         5  ...         0.308789        1\n",
            "2         2256073                         0  ...         0.030787        0\n",
            "3         4885975                         0  ...         0.033645        0\n",
            "4         4700614                         1  ...         0.075435        0\n",
            "...           ...                       ...  ...              ...      ...\n",
            "9995      3972488                         0  ...         0.059818        0\n",
            "9996      6184073                         1  ...         0.068253        0\n",
            "9997      6694516                         2  ...         0.126021        0\n",
            "9998      3942961                         0  ...         0.020481        0\n",
            "9999      5533570                         1  ...         0.099643        0\n",
            "\n",
            "[10000 rows x 9 columns]\n"
          ]
        }
      ]
    },
    {
      "cell_type": "code",
      "source": [
        "X = dataset.iloc[:,1:-1].values\n",
        "y = dataset.iloc[:,-1].values\n",
        "print(X.shape)\n",
        "print(X)\n",
        "print(y)"
      ],
      "metadata": {
        "colab": {
          "base_uri": "https://localhost:8080/"
        },
        "id": "LUoXVENmpNsO",
        "outputId": "360f9ec2-7b2e-43c0-8f5c-064f74e50d99"
      },
      "execution_count": 210,
      "outputs": [
        {
          "output_type": "stream",
          "name": "stdout",
          "text": [
            "(10000, 7)\n",
            "[[0.00000000e+00 5.22154519e+03 3.91547123e+03 ... 5.00000000e+00\n",
            "  6.05000000e+02 5.01730146e-02]\n",
            " [5.00000000e+00 1.95892873e+03 8.22875252e+03 ... 2.00000000e+00\n",
            "  5.72000000e+02 3.08789332e-01]\n",
            " [0.00000000e+00 3.36300926e+03 2.02783085e+03 ... 4.00000000e+00\n",
            "  6.02000000e+02 3.07868842e-02]\n",
            " ...\n",
            " [2.00000000e+00 3.08822373e+03 4.81309093e+03 ... 5.00000000e+00\n",
            "  5.96000000e+02 1.26021307e-01]\n",
            " [0.00000000e+00 3.28890167e+03 1.04309966e+03 ... 2.00000000e+00\n",
            "  6.47000000e+02 2.04812983e-02]\n",
            " [1.00000000e+00 1.91765248e+03 3.05024820e+03 ... 6.00000000e+00\n",
            "  7.57000000e+02 9.96434486e-02]]\n",
            "[0 1 0 ... 0 0 0]\n"
          ]
        }
      ]
    },
    {
      "cell_type": "code",
      "source": [
        "ct = ColumnTransformer(transformers=[('encoder',OneHotEncoder(),[0])],remainder='passthrough')\n",
        "X = np.array(ct.fit_transform(X))"
      ],
      "metadata": {
        "id": "afCLPc85v9Nc"
      },
      "execution_count": 211,
      "outputs": []
    },
    {
      "cell_type": "code",
      "source": [
        "X_train,X_temp,y_train,y_temp = train_test_split(X,y,test_size=0.2,random_state=0)\n",
        "X_cv,X_test,y_cv,y_test = train_test_split(X_temp,y_temp,test_size=0.5,random_state=0)"
      ],
      "metadata": {
        "id": "tXbZ1NAutn9H"
      },
      "execution_count": 212,
      "outputs": []
    },
    {
      "cell_type": "code",
      "source": [
        "rfr = RandomForestClassifier(n_estimators=100,random_state=0,max_depth=4)\n",
        "rfr.fit(X_train,y_train)\n",
        "y_train_pred = rfr.predict(X_train)\n",
        "y_cv_pred = rfr.predict(X_cv)\n",
        "y_test_pred = rfr.predict(X_test)"
      ],
      "metadata": {
        "id": "0rnslrP9qdN2"
      },
      "execution_count": 213,
      "outputs": []
    },
    {
      "cell_type": "code",
      "source": [
        "encoded_feature_names = (\n",
        "    ct.named_transformers_['encoder']\n",
        "    .get_feature_names_out(input_features=['credit_lines_outstanding'])\n",
        ")\n",
        "\n",
        "importances = rfr.feature_importances_\n",
        "feature_names = list(encoded_feature_names) + list(dataset.columns[2:-1])\n",
        "importance_df = pd.DataFrame({\n",
        "    'Feature': feature_names,\n",
        "    'Importance': importances\n",
        "})\n",
        "print(importance_df.sort_values(by='Importance', ascending=False))"
      ],
      "metadata": {
        "colab": {
          "base_uri": "https://localhost:8080/"
        },
        "id": "biJ14spl2NHp",
        "outputId": "91b72b8d-9884-4f7d-ddf1-811b5ce1df49"
      },
      "execution_count": 214,
      "outputs": [
        {
          "output_type": "stream",
          "name": "stdout",
          "text": [
            "                         Feature  Importance\n",
            "11               DebtIncomeRatio    0.431636\n",
            "5   credit_lines_outstanding_5.0    0.220354\n",
            "7         total_debt_outstanding    0.202841\n",
            "0   credit_lines_outstanding_0.0    0.045472\n",
            "4   credit_lines_outstanding_4.0    0.034775\n",
            "9                 years_employed    0.014571\n",
            "2   credit_lines_outstanding_2.0    0.013926\n",
            "1   credit_lines_outstanding_1.0    0.013689\n",
            "10                    fico_score    0.009891\n",
            "3   credit_lines_outstanding_3.0    0.007611\n",
            "8                         income    0.003544\n",
            "6           loan_amt_outstanding    0.001690\n"
          ]
        }
      ]
    },
    {
      "cell_type": "code",
      "source": [
        "metrics = {}\n",
        "\n",
        "metrics['Train Accuracy'] = r2_score(y_train, y_train_pred)\n",
        "metrics['Train MSE'] = mean_squared_error(y_train, y_train_pred)\n",
        "metrics['Train MAE'] = mean_absolute_error(y_train, y_train_pred)\n",
        "\n",
        "metrics['Validation Accuracy'] = r2_score(y_cv, y_cv_pred)\n",
        "metrics['Validation MSE'] = mean_squared_error(y_cv, y_cv_pred)\n",
        "metrics['Validation MAE'] = mean_absolute_error(y_cv, y_cv_pred)\n",
        "\n",
        "metrics['Test Accuracy'] = r2_score(y_test, y_test_pred)\n",
        "metrics['Test MSE'] = mean_squared_error(y_test, y_test_pred)\n",
        "metrics['Test MAE'] = mean_absolute_error(y_test, y_test_pred)\n",
        "\n",
        "for key, value in metrics.items():\n",
        "      print(f\"{key}: {value:.4f}\")"
      ],
      "metadata": {
        "colab": {
          "base_uri": "https://localhost:8080/"
        },
        "id": "xFGFpHxA8Vzo",
        "outputId": "190806bf-5c8a-49c3-8d92-1a79334ce24d"
      },
      "execution_count": 215,
      "outputs": [
        {
          "output_type": "stream",
          "name": "stdout",
          "text": [
            "Train Accuracy: 0.9226\n",
            "Train MSE: 0.0118\n",
            "Train MAE: 0.0118\n",
            "Validation Accuracy: 0.8721\n",
            "Validation MSE: 0.0200\n",
            "Validation MAE: 0.0200\n",
            "Test Accuracy: 0.8984\n",
            "Test MSE: 0.0140\n",
            "Test MAE: 0.0140\n"
          ]
        }
      ]
    },
    {
      "cell_type": "code",
      "source": [
        "# print(accuracy_score(y_test,y_pred_test))\n",
        "# print(confusion_matrix(y_test,y_pred_test))"
      ],
      "metadata": {
        "id": "vdgNMuMbuAGq"
      },
      "execution_count": 216,
      "outputs": []
    },
    {
      "cell_type": "code",
      "source": [
        "default_probability = rfr.predict_proba(X)[:,1]\n",
        "print(default_probability)\n",
        "dataset['defalt_probability'] = default_probability\n",
        "print(dataset)"
      ],
      "metadata": {
        "colab": {
          "base_uri": "https://localhost:8080/"
        },
        "id": "Mlk6NYvs0Nzg",
        "outputId": "1be897a2-dcbf-4c8a-9e39-508ef2dc73b1"
      },
      "execution_count": 217,
      "outputs": [
        {
          "output_type": "stream",
          "name": "stdout",
          "text": [
            "[0.00309334 0.94689395 0.00276574 ... 0.01640532 0.00486874 0.01482665]\n",
            "      customer_id  credit_lines_outstanding  ...  default  defalt_probability\n",
            "0         8153374                         0  ...        0            0.003093\n",
            "1         7442532                         5  ...        1            0.946894\n",
            "2         2256073                         0  ...        0            0.002766\n",
            "3         4885975                         0  ...        0            0.003108\n",
            "4         4700614                         1  ...        0            0.015041\n",
            "...           ...                       ...  ...      ...                 ...\n",
            "9995      3972488                         0  ...        0            0.004873\n",
            "9996      6184073                         1  ...        0            0.007290\n",
            "9997      6694516                         2  ...        0            0.016405\n",
            "9998      3942961                         0  ...        0            0.004869\n",
            "9999      5533570                         1  ...        0            0.014827\n",
            "\n",
            "[10000 rows x 10 columns]\n"
          ]
        }
      ]
    },
    {
      "cell_type": "code",
      "source": [
        "recovery_rate = 0.1\n",
        "expected_loss = (1-recovery_rate)*dataset['loan_amt_outstanding']*dataset['defalt_probability']\n",
        "dataset['expected_loss'] = expected_loss\n",
        "print(dataset)\n",
        "print(f\"max expected loss : {max(expected_loss)}\")\n",
        "print(f\"min expected loss : {min(expected_loss)}\")"
      ],
      "metadata": {
        "colab": {
          "base_uri": "https://localhost:8080/"
        },
        "id": "zCaIoxxbbqPW",
        "outputId": "2bab109d-53f9-4507-bb1e-4d9334a3a430"
      },
      "execution_count": 219,
      "outputs": [
        {
          "output_type": "stream",
          "name": "stdout",
          "text": [
            "      customer_id  credit_lines_outstanding  ...  defalt_probability  expected_loss\n",
            "0         8153374                         0  ...            0.003093      14.536802\n",
            "1         7442532                         5  ...            0.946894    1669.407986\n",
            "2         2256073                         0  ...            0.002766       8.371099\n",
            "3         4885975                         0  ...            0.003108      13.334396\n",
            "4         4700614                         1  ...            0.015041      18.218480\n",
            "...           ...                       ...  ...                 ...            ...\n",
            "9995      3972488                         0  ...            0.004873      13.303792\n",
            "9996      6184073                         1  ...            0.007290      27.204480\n",
            "9997      6694516                         2  ...            0.016405      45.596966\n",
            "9998      3942961                         0  ...            0.004869      14.411517\n",
            "9999      5533570                         1  ...            0.014827      25.589134\n",
            "\n",
            "[10000 rows x 11 columns]\n",
            "max expected loss : 9054.468742973193\n",
            "min expected loss : 0.5689740888261156\n"
          ]
        }
      ]
    },
    {
      "cell_type": "code",
      "source": [],
      "metadata": {
        "colab": {
          "base_uri": "https://localhost:8080/",
          "height": 430
        },
        "id": "sQXeIfzezaqo",
        "outputId": "73e042f2-831b-482a-ea6a-629609140e2b"
      },
      "execution_count": 222,
      "outputs": [
        {
          "output_type": "display_data",
          "data": {
            "text/plain": [
              "<Figure size 640x480 with 1 Axes>"
            ],
            "image/png": "[encoded data removed]"
          },
          "metadata": {}
        }
      ]
    },
    {
      "cell_type": "code",
      "source": [],
      "metadata": {
        "id": "RTe3nql2AOqi"
      },
      "execution_count": null,
      "outputs": []
    }
  ]
}